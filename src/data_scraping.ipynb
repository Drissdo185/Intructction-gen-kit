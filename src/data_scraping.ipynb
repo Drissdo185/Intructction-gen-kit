{
 "cells": [
  {
   "cell_type": "code",
   "execution_count": 13,
   "metadata": {},
   "outputs": [
    {
     "name": "stdout",
     "output_type": "stream",
     "text": [
      "Saved 5 chapters to chapters.json\n"
     ]
    }
   ],
   "source": [
    "import requests\n",
    "from bs4 import BeautifulSoup\n",
    "import json\n",
    "\n",
    "base_url = \"https://luatvietnam.vn/vi-pham-hanh-chinh/nghi-dinh-100-2019-nd-cp-xu-phat-vi-pham-giao-thong-179619-d1.html\"\n",
    "headers = {\n",
    "    'User-Agent': 'Mozilla/5.0 (Windows NT 10.0; Win64; x64) AppleWebKit/537.36 (KHTML, like Gecko) Chrome/91.0.4472.124 Safari/537.36',\n",
    "    'Accept': 'text/html,application/xhtml+xml,application/xml;q=0.9,image/webp,*/*;q=0.8',\n",
    "    'Accept-Language': 'en-US,en;q=0.5',\n",
    "    'Connection': 'keep-alive',\n",
    "}\n",
    "\n",
    "response = requests.get(base_url, headers=headers)\n",
    "soup = BeautifulSoup(response.content, 'html.parser')\n",
    "\n",
    "chapters = []\n",
    "current_chapter = None\n",
    "current_text = ''\n",
    "\n",
    "docitems = soup.find_all(\"div\", class_=lambda x: x and x.startswith(\"docitem\"))\n",
    "docitems = docitems[4:]  # Skip header elements\n",
    "\n",
    "for div in docitems:\n",
    "    class_name = div.get('class')[0]\n",
    "    \n",
    "    if class_name == 'docitem-2':\n",
    "        # Save previous chapter's content\n",
    "        if current_chapter and current_text:\n",
    "            current_chapter['content'].append(current_text)\n",
    "        \n",
    "        # Start new chapter\n",
    "        if current_chapter:\n",
    "            chapters.append(current_chapter)\n",
    "        current_chapter = {\n",
    "            'title': div.text.strip(),\n",
    "            'content': []\n",
    "        }\n",
    "        current_text = ''\n",
    "        \n",
    "    elif class_name == 'docitem-5':\n",
    "        # Save previous section if exists\n",
    "        if current_text:\n",
    "            current_chapter['content'].append(current_text)\n",
    "        # Start new section\n",
    "        current_text = div.text.strip()\n",
    "        \n",
    "    elif class_name in ['docitem-11', 'docitem-12']:\n",
    "        # Append to current section\n",
    "        current_text += '\\n' + div.text.strip()\n",
    "\n",
    "# Save final chapter and its content\n",
    "if current_chapter and current_text:\n",
    "    current_chapter['content'].append(current_text)\n",
    "if current_chapter:\n",
    "    chapters.append(current_chapter)\n",
    "\n",
    "# Save to JSON file\n",
    "with open('chapters.json', 'w', encoding='utf-8') as f:\n",
    "    json.dump(chapters, f, ensure_ascii=False, indent=2)\n",
    "\n",
    "print(f\"Saved {len(chapters)} chapters to chapters.json\")"
   ]
  },
  {
   "cell_type": "code",
   "execution_count": null,
   "metadata": {},
   "outputs": [],
   "source": []
  }
 ],
 "metadata": {
  "kernelspec": {
   "display_name": "data_gen",
   "language": "python",
   "name": "python3"
  },
  "language_info": {
   "codemirror_mode": {
    "name": "ipython",
    "version": 3
   },
   "file_extension": ".py",
   "mimetype": "text/x-python",
   "name": "python",
   "nbconvert_exporter": "python",
   "pygments_lexer": "ipython3",
   "version": "3.11.7"
  }
 },
 "nbformat": 4,
 "nbformat_minor": 2
}
